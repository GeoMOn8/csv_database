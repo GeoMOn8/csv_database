{
 "cells": [
  {
   "cell_type": "code",
   "execution_count": 2,
   "id": "bfbfb6f5",
   "metadata": {},
   "outputs": [],
   "source": [
    "import os # interaction with operating system\n",
    "import numpy as np # to work with arrays\n",
    "import pandas as pd # multi-dimentional arrays\n",
    "import psycopg2 # postgres wrapper, make a connection to database\n",
    "import mysql.connector"
   ]
  },
  {
   "cell_type": "code",
   "execution_count": 3,
   "id": "5a94f088",
   "metadata": {},
   "outputs": [
    {
     "name": "stdout",
     "output_type": "stream",
     "text": [
      "mv 'us_cities.csv' datasets\n",
      "mv 'average-latitude-longitude-countries.csv' datasets\n",
      "mv 'world_cities.csv' datasets\n",
      "opened DB success\n",
      "us_cities was created successfully\n",
      "filed opened in memory\n",
      "file copied to db\n",
      "table us_cities to db completed\n",
      "opened DB success\n",
      "average_latitude_longitude_countries was created successfully\n",
      "filed opened in memory\n",
      "file copied to db\n",
      "table average_latitude_longitude_countries to db completed\n",
      "opened DB success\n",
      "world_cities was created successfully\n",
      "filed opened in memory\n",
      "file copied to db\n",
      "table world_cities to db completed\n"
     ]
    },
    {
     "name": "stderr",
     "output_type": "stream",
     "text": [
      "mkdir: cannot create directory ‘datasets’: File exists\n"
     ]
    }
   ],
   "source": [
    "# main\n",
    "\n",
    "from csv_import_functions import *\n",
    "from dotenv import load_dotenv\n",
    "\n",
    "# take environment variables from .env.\n",
    "load_dotenv()\n",
    "\n",
    "#settings \n",
    "dataset_dir = 'datasets'\n",
    "\n",
    "# db settings\n",
    "# open a databes connection\n",
    "host = os.getenv(\"HOST\")\n",
    "database = os.getenv(\"DATABASE\")\n",
    "user = os.getenv(\"DB_USER\")\n",
    "password = os.getenv(\"PASSWORD\")\n",
    "\n",
    "# configure environment and create main df\n",
    "csv_files = csv_files()\n",
    "configure_dataset_directory(csv_files, dataset_dir)\n",
    "data = create_df(dataset_dir, csv_files)\n",
    "\n",
    "for k in csv_files:\n",
    "    \n",
    "    # call dataframe\n",
    "    dataframe = data[k]\n",
    "    \n",
    "    # clean table name\n",
    "    tbl_name = clean_tbl_name(k)\n",
    "    \n",
    "    # clean column name\n",
    "    clm_str, dataframe.columns = clean_clm_name(dataframe)\n",
    "    \n",
    "    # upload data to db\n",
    "    upload_to_db(host, database, user, password, tbl_name, clm_str, file=k, dataframe=dataframe, dataframe_columns=dataframe.columns)"
   ]
  },
  {
   "cell_type": "code",
   "execution_count": null,
   "id": "fefdb82a",
   "metadata": {},
   "outputs": [],
   "source": []
  },
  {
   "cell_type": "code",
   "execution_count": null,
   "id": "79478fe6",
   "metadata": {},
   "outputs": [],
   "source": []
  },
  {
   "cell_type": "code",
   "execution_count": null,
   "id": "09eea87a",
   "metadata": {},
   "outputs": [],
   "source": []
  }
 ],
 "metadata": {
  "kernelspec": {
   "display_name": "Python 3 (ipykernel)",
   "language": "python",
   "name": "python3"
  },
  "language_info": {
   "codemirror_mode": {
    "name": "ipython",
    "version": 3
   },
   "file_extension": ".py",
   "mimetype": "text/x-python",
   "name": "python",
   "nbconvert_exporter": "python",
   "pygments_lexer": "ipython3",
   "version": "3.10.6"
  }
 },
 "nbformat": 4,
 "nbformat_minor": 5
}
